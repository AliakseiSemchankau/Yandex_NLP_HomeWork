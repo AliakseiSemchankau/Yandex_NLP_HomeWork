{
 "cells": [
  {
   "cell_type": "code",
   "execution_count": 19,
   "metadata": {
    "collapsed": true
   },
   "outputs": [],
   "source": [
    "import numpy as np\n",
    "import sqlite3\n",
    "from sklearn.feature_extraction.text import CountVectorizer\n",
    "from sklearn.feature_extraction.text import TfidfVectorizer"
   ]
  },
  {
   "cell_type": "code",
   "execution_count": 3,
   "metadata": {
    "collapsed": true
   },
   "outputs": [],
   "source": [
    "conn = sqlite3.connect('database.sqlite')"
   ]
  },
  {
   "cell_type": "code",
   "execution_count": 4,
   "metadata": {
    "collapsed": true
   },
   "outputs": [],
   "source": [
    "cursor = conn.execute('SELECT ExtractedBodyText FROM Emails')"
   ]
  },
  {
   "cell_type": "code",
   "execution_count": 6,
   "metadata": {
    "collapsed": false
   },
   "outputs": [],
   "source": [
    "emails = [row[0] for row in cursor]"
   ]
  },
  {
   "cell_type": "code",
   "execution_count": 10,
   "metadata": {
    "collapsed": true
   },
   "outputs": [],
   "source": [
    "emails_cleared = [email.lower() for email in emails]"
   ]
  },
  {
   "cell_type": "markdown",
   "metadata": {},
   "source": [
    "Теперь все письма выглядят однотипно."
   ]
  },
  {
   "cell_type": "code",
   "execution_count": 18,
   "metadata": {
    "collapsed": false,
    "scrolled": true
   },
   "outputs": [
    {
     "name": "stdout",
     "output_type": "stream",
     "text": [
      "\n",
      "\n",
      "\n",
      "pis contact judith barnett who has lots of ideas about partnering w business about the middle east. do you know her?\n",
      "\n",
      "\n",
      "pls print.\n",
      "h <hrod17@clintonemail.com >\n",
      "sunday, october 11, 2009 5:03 pm\n",
      "'jilotylc@state.gov'\n",
      "fw: thanks so much for the talk\n",
      "\n",
      "\n",
      "\n",
      "\n",
      "\n",
      "mills, cheryl d <millscd@state.gov>\n",
      "thursday, june n, 2009 5:42 am\n",
      "fw: cos call 6/10/09\n",
      "fyi\n",
      "\n",
      "\n",
      "philippe got final edits\n",
      "you will have no later than 11:30\n",
      "\n",
      "\n",
      "fyi\n",
      "\n",
      "\n",
      "\n",
      "\n",
      "\n",
      "\n",
      "\n",
      "\n",
      "mchale, judith a <mchaleja@state.gov>\n",
      "friday, april 9, 2010 6:54 am\n",
      "h.\n",
      "mills, cheryl d; sullivan, jacob j\n",
      "re: recognition of usg assistance/contributions.\n",
      "will do. this is such a critical (and frustrating) issue that i want to try and start moving forward on it as soon as we can. i\n",
      "know raj wants to address this as well. i'd like to start off with a relatively small group of dos and usaid reps, plus a\n",
      "group top private sector brand and other ex erts. for exam .l\n",
      "who is an incredible woman who is already helping me with youth engagement and who would b6\n",
      "be terrific for this. in addition i'd like to reach out to people in the ngo and think tank community so we can get a broad\n",
      "range of opinions.\n",
      "will keep you posted.\n",
      "there is a difference of opinion within nea that i am trying to sort out b5\n",
      "but i will have something to you by next early week.\n",
      "finally, as i think you know,\n",
      "i am working on a memo for you and jim outlining the details.\n",
      "im\n",
      "\n",
      "\n",
      "sbwhoeop\n",
      "saturday, january 23, 2010 9:26 am\n",
      "h: fyi: any foreign nation or leader with a front company becomes a \"person\" under us\n",
      "law. s\n",
      "http://coloradoindependent.com/46462/hugo-chavezs-state-owned-petroleos-corp-set-to-spend-on-your-u-s-election\n",
      "f\n",
      "&.1\n",
      "3.1 4.1)\n",
      "sr—c\"\n",
      "....e.-swadursooarssustre.tammzionewsmsostor,extuurs-xuatias.\n",
      "to .send on your\n",
      "(in- mined paerr-lee-- corn\n",
      "10101w1194901.1.1.11211...t.m.17,..\n",
      ". aflgrnit,cnzfl,,,z010\n",
      "ti 4\n",
      "491. 2 sea, r,%\n",
      "(1,.a\n",
      "'62 39 • m `4.1p, ‘s.3,az-ad:3'4\n",
      "2:=111\n",
      ".\n",
      ". .1”....ailioniminsult s=wimolt.11111111111 2111011=1.19.711\n",
      ",111221.vomissgmaim1.1.7.1.111m.mvo.itr...421/1.97.71r.11,111012.1.0\n",
      "1:4;43y john tornasic 1/22/10 3:58 pm\n",
      "blogging on the citizens united supreme court ruling is more of what we love about the web. it's the kind of typical\n",
      "collective dissection we have now come to expect but that never really existed before: serious, speculative, arcane, funny,\n",
      "brilliant, baked, etc. the sunliaht foundation b!000inci is predictably good. paul blumenthal dips into the multinational\n",
      "dimension of the new \"corporation as full citizen-person\" framework, drawing on blogging going on at neytsweqk and the\n",
      "ceraer for pubiic inte'r'.\n",
      "\"looks like [the court] might support allowing foreign companies to spend freely in elections in the united states. i guess\n",
      "this would be the corporate globalization of the u.s. electoral system.\" so you gotta ask yourself: who does hugo chavez\n",
      "want for president?\n",
      "blumenthal excerpting the center for public integrity:\n",
      "the center for public integrity looks at this closer and shows what kind of foreign influence we are\n",
      "looking at:\n",
      "one prominent examples is citgo petroleum company — once the american-born\n",
      "cities services company, but purchased in 1990 by the venezuelan government-owned\n",
      "petroieos de venezuela s.a. the citizens united ruling could conceivably allow\n",
      "venezuelan president hugo chavez, who has sharply criticized both of the past two u.s.\n",
      "presidents, to spend government funds to defeat an american political candidate, just by\n",
      "having citgo buy tv ads bashing his target.\n",
      "and it's not just chavez. the saudi government owns houston's saudi refining\n",
      "company and half of motive enterprises. lenovo, which bought ibm's pc assets in 2004,\n",
      "is partially owned by the chinese government's chinese academy of sciences. and\n",
      "singapore's apl limited operates several u.s. port operations. a weakening of the limit\n",
      "on corporate giving could mean china, saudi arabia, singapore, and any other country\n",
      "that owns companies that operate in the u.s. could also have significant sway in\n",
      "american electioneering.\n",
      "i really can't see americans being too happy about this.\n",
      "ha lithwick reported :rc(' .ate from the supreme court as the opinions were being read. she offered this aside:\n",
      "while stevens is reading the portion of his concurrence about the \"cautious view of corporate power\" held\n",
      "by the framers, i see justice thomas chuckle softly.\n",
      "was it a disdainful chuckle at the impotence of his colleague? was it merely a chuckle of disagreement, of good-natured\n",
      "exasperation? was it a chuckle at an anachronistic vision of the framers set beside today's modern corporate silicon and\n",
      "steel behemoths? i doubt he was thinking about hugo chavez.\n",
      "\n",
      "\n",
      "\n",
      "\n",
      "\n",
      "very sweet email from harvey. let me know if you want the movies.\n",
      "you were amazing yesterday. will look for direction on details for the upcoming talks.\n",
      "\n",
      "\n",
      "fyi\n",
      "\n",
      "\n",
      "sullivan, jacob.) <sullivanjj@state.gov>\n",
      "monday, december 27, 2010 7:46 am\n",
      "khodorkovsky verdict\n",
      "embassy moscow and bill recommend that we put out the below statement in your name.\n",
      "statement by secretary clinton\n",
      "statement on the verdict in the khodorkoysky/lebedev case\n",
      "\n",
      "\n",
      "aclb\n",
      "tuesday, september 28, 2010 11:05 am\n",
      "jake.sullivan\n",
      "re\n",
      "mepp note 27_09_10.docx; mepp note 27_09_10.docx\n",
      "b6\n",
      "here is the paper i am sending gm after my visit. i remain firmly of the view that we can get this agreed. i am now back\n",
      "in london. happy to talk at any time. spent long time with both bb and barak before leaving. have also spoken to some\n",
      "of arabs. best tony\n",
      "dholaimer\n",
      "atarning - this email ,s only iiitande,d for too person to wnoin or ertiv to which it is addresseo coo together with any files transmitted troth :s confidential and\n",
      "tn&y also be privilaged if you are intended recipient you must not cep), forvii:;r1, use or rely on any part of or rtsi;lose its contents to any person. ii you\n",
      "have 'eceived it in error. plea:ie notify our system manager on 4-41\n",
      ", 20 7647 7782 and delete all cuprrni iminediateiy\n",
      "where ills email is sent in he usual cours lf our business, the views ei(oresbed riinis email -ir5 !hose, of the sender and '10t those or the office if tony\n",
      "bi-or\n",
      "the office of ropy blair accepts lio responsibility for s:...!t■vare, yin.ises and you shcuid check for virwies before opening any attachrrients. 'nterne.t communications\n",
      "are no' neciire and trieretcre the office f ohy blair ices lict provide ay guarantee or '.iyar,\n",
      "anty that this email or any attachments snail remain confider oar\n",
      "he ,..;rticri: clair is a trading name of winciatih kientuiris limited and windiusii ventures ncl p windrush ventures limited is is limited company\n",
      "regiszerod in •\n",
      ",-\n",
      ".ngiari.1 and wales with iegisteied numnei- 06397276. its ,egisterad office .s ontiop oil 'h ccl\n",
      "findrush ventures no. 3 l s a limited part.iersnio iegiatereo in ;england and wares with ;ap.stered ri tmher t.p012565. !is registered cifit;ei is 50 broadway,\n",
      "london sw-\n",
      ".h ca. the inembers .ientt.rosi\\17.\n",
      ", 3 l.p arc bobcf.) nir fil unified arid ,\n",
      "p.tir drus!'i voz:ntures no 2 up and ;he address at whicn each of\n",
      "t\".csa trit\n",
      ". served is t50 brmaisway l °noon :-3w1h ubl.\n",
      "7nis email nay ;elate to or !-\n",
      ".112 sent from other memt;ers or the livindn.:.?.h group\n",
      "this email has been scanned by the messagelabs email security system.\n",
      "for more information please visit http://wvvw.rnessagelabs.com/email\n",
      "\n",
      "\n"
     ]
    }
   ],
   "source": [
    "for email in emails_cleared[6:10]:\n",
    "    print (email)\n",
    "    print ('---------------------------------')"
   ]
  },
  {
   "cell_type": "code",
   "execution_count": 124,
   "metadata": {
    "collapsed": false
   },
   "outputs": [],
   "source": [
    "vectorizer = CountVectorizer(min_df=1, ngram_range=(2, 2), stop_words='english')\n",
    "matrix = vectorizer.fit_transform(emails)"
   ]
  },
  {
   "cell_type": "code",
   "execution_count": 2,
   "metadata": {
    "collapsed": false
   },
   "outputs": [
    {
     "ename": "NameError",
     "evalue": "name 'vectorizer' is not defined",
     "output_type": "error",
     "traceback": [
      "\u001b[0;31m---------------------------------------------------------------------------\u001b[0m",
      "\u001b[0;31mNameError\u001b[0m                                 Traceback (most recent call last)",
      "\u001b[0;32m<ipython-input-2-bd3e8b66d15f>\u001b[0m in \u001b[0;36m<module>\u001b[0;34m()\u001b[0m\n\u001b[0;32m----> 1\u001b[0;31m \u001b[0mfeature_names\u001b[0m \u001b[0;34m=\u001b[0m \u001b[0mvectorizer\u001b[0m\u001b[0;34m.\u001b[0m\u001b[0mget_feature_names\u001b[0m\u001b[0;34m(\u001b[0m\u001b[0;34m)\u001b[0m\u001b[0;34m\u001b[0m\u001b[0m\n\u001b[0m",
      "\u001b[0;31mNameError\u001b[0m: name 'vectorizer' is not defined"
     ]
    }
   ],
   "source": [
    "feature_names = vectorizer.get_feature_names()"
   ]
  },
  {
   "cell_type": "code",
   "execution_count": 1,
   "metadata": {
    "collapsed": false
   },
   "outputs": [
    {
     "ename": "NameError",
     "evalue": "name 'matrix' is not defined",
     "output_type": "error",
     "traceback": [
      "\u001b[0;31m---------------------------------------------------------------------------\u001b[0m",
      "\u001b[0;31mNameError\u001b[0m                                 Traceback (most recent call last)",
      "\u001b[0;32m<ipython-input-1-9127c9ea146d>\u001b[0m in \u001b[0;36m<module>\u001b[0;34m()\u001b[0m\n\u001b[0;32m----> 1\u001b[0;31m \u001b[0mpopularity\u001b[0m \u001b[0;34m=\u001b[0m \u001b[0mmatrix\u001b[0m\u001b[0;34m.\u001b[0m\u001b[0msum\u001b[0m\u001b[0;34m(\u001b[0m\u001b[0;36m0\u001b[0m\u001b[0;34m)\u001b[0m\u001b[0;34m\u001b[0m\u001b[0m\n\u001b[0m\u001b[1;32m      2\u001b[0m \u001b[0mpopularity\u001b[0m \u001b[0;34m=\u001b[0m \u001b[0mnp\u001b[0m\u001b[0;34m.\u001b[0m\u001b[0marray\u001b[0m\u001b[0;34m(\u001b[0m\u001b[0mpopularity\u001b[0m\u001b[0;34m)\u001b[0m\u001b[0;34m[\u001b[0m\u001b[0;36m0\u001b[0m\u001b[0;34m]\u001b[0m\u001b[0;34m.\u001b[0m\u001b[0mtolist\u001b[0m\u001b[0;34m(\u001b[0m\u001b[0;34m)\u001b[0m\u001b[0;34m\u001b[0m\u001b[0m\n\u001b[1;32m      3\u001b[0m \u001b[0mpop_list\u001b[0m \u001b[0;34m=\u001b[0m \u001b[0;34m[\u001b[0m\u001b[0;34m[\u001b[0m\u001b[0;34m-\u001b[0m\u001b[0mpop\u001b[0m\u001b[0;34m,\u001b[0m \u001b[0mfeature\u001b[0m\u001b[0;34m]\u001b[0m \u001b[0;32mfor\u001b[0m \u001b[0mpop\u001b[0m\u001b[0;34m,\u001b[0m \u001b[0mfeature\u001b[0m \u001b[0;32min\u001b[0m \u001b[0mzip\u001b[0m\u001b[0;34m(\u001b[0m\u001b[0mpopularity\u001b[0m\u001b[0;34m,\u001b[0m \u001b[0mfeature_names\u001b[0m\u001b[0;34m)\u001b[0m\u001b[0;34m]\u001b[0m\u001b[0;34m\u001b[0m\u001b[0m\n\u001b[1;32m      4\u001b[0m \u001b[0mpop_list\u001b[0m \u001b[0;34m=\u001b[0m \u001b[0msorted\u001b[0m\u001b[0;34m(\u001b[0m\u001b[0mpop_list\u001b[0m\u001b[0;34m)\u001b[0m\u001b[0;34m\u001b[0m\u001b[0m\n\u001b[1;32m      5\u001b[0m \u001b[0;32mfor\u001b[0m \u001b[0msub\u001b[0m \u001b[0;32min\u001b[0m \u001b[0mpop_list\u001b[0m\u001b[0;34m:\u001b[0m\u001b[0;34m\u001b[0m\u001b[0m\n",
      "\u001b[0;31mNameError\u001b[0m: name 'matrix' is not defined"
     ]
    }
   ],
   "source": [
    "popularity = matrix.sum(0)\n",
    "popularity = np.array(popularity)[0].tolist()\n",
    "pop_list = [[-pop, feature] for pop, feature in zip(popularity, feature_names)]\n",
    "pop_list = sorted(pop_list)\n",
    "for sub in pop_list:\n",
    "    sub[0] = -sub[0]\n",
    "pop_list[0:20]"
   ]
  },
  {
   "cell_type": "markdown",
   "metadata": {},
   "source": [
    "Вот такие биграммы чаще всего встречаются в тексте"
   ]
  },
  {
   "cell_type": "code",
   "execution_count": null,
   "metadata": {
    "collapsed": true
   },
   "outputs": [],
   "source": []
  }
 ],
 "metadata": {
  "kernelspec": {
   "display_name": "Python 3",
   "language": "python",
   "name": "python3"
  },
  "language_info": {
   "codemirror_mode": {
    "name": "ipython",
    "version": 3
   },
   "file_extension": ".py",
   "mimetype": "text/x-python",
   "name": "python",
   "nbconvert_exporter": "python",
   "pygments_lexer": "ipython3",
   "version": "3.5.2"
  }
 },
 "nbformat": 4,
 "nbformat_minor": 0
}
